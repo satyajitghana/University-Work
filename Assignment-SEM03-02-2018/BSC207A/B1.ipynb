{
 "cells": [
  {
   "cell_type": "markdown",
   "metadata": {},
   "source": [
    "# B1"
   ]
  },
  {
   "cell_type": "code",
   "execution_count": 3,
   "metadata": {},
   "outputs": [
    {
     "name": "stdout",
     "output_type": "stream",
     "text": [
      "\n",
      "x =\n",
      "\n",
      "         0    1.0472    2.0944    3.1416    4.1888    5.2360\n",
      "\n",
      "\n",
      "y =\n",
      "\n",
      "    1.9800    1.3000    1.0500    1.3000   -0.8800   -0.2500\n",
      "\n",
      "\n"
     ]
    }
   ],
   "source": [
    "x = linspace(0, 10*pi/6, 6)\n",
    "y = [1.98 1.30 1.05 1.30 -0.88 -0.25]"
   ]
  },
  {
   "cell_type": "code",
   "execution_count": 14,
   "metadata": {
    "scrolled": false
   },
   "outputs": [
    {
     "name": "stdout",
     "output_type": "stream",
     "text": [
      "1 theta\n",
      "\n",
      "ans =\n",
      "\n",
      "    1.9800    0.6500   -0.5250   -1.3000    0.4400   -0.1250\n",
      "\n",
      "sum : \n",
      "    1.1200\n",
      "\n",
      "\n",
      "ans =\n",
      "\n",
      "         0    1.1258    0.9093    0.0000    0.7621    0.2165\n",
      "\n",
      "sum : \n",
      "    3.0138\n",
      "\n",
      "\n",
      "\n",
      "2 theta\n",
      "\n",
      "ans =\n",
      "\n",
      "    1.9800   -0.6500   -0.5250    1.3000    0.4400    0.1250\n",
      "\n",
      "sum : \n",
      "    2.6700\n",
      "\n",
      "\n",
      "ans =\n",
      "\n",
      "         0    1.1258   -0.9093   -0.0000   -0.7621    0.2165\n",
      "\n",
      "sum : \n",
      "   -0.3291\n",
      "\n",
      "\n",
      "\n",
      "3 theta\n",
      "\n",
      "ans =\n",
      "\n",
      "    1.9800   -1.3000    1.0500   -1.3000   -0.8800    0.2500\n",
      "\n",
      "sum : \n",
      "   -0.2000\n",
      "\n",
      "\n",
      "ans =\n",
      "\n",
      "   1.0e-14 *\n",
      "\n",
      "         0   -0.0418    0.0675    0.0478   -0.1132   -0.0153\n",
      "\n",
      "sum : \n",
      "  -5.5029e-16\n",
      "\n",
      "\n",
      "\n",
      "\n"
     ]
    }
   ],
   "source": [
    "h = 3;\n",
    "for i = 1:h\n",
    "    disp(num2str(i)+\" theta\");\n",
    "    y.*cos(i*x)\n",
    "    disp('sum : ')\n",
    "    disp(sum(y.*cos(i*x)))\n",
    "    y.*sin(i*x)\n",
    "    disp('sum : ')\n",
    "    disp(sum(y.*sin(i*x)))\n",
    "    fprintf('\\n\\n');\n",
    "end"
   ]
  },
  {
   "cell_type": "code",
   "execution_count": 67,
   "metadata": {},
   "outputs": [
    {
     "name": "stdout",
     "output_type": "stream",
     "text": [
      " \n",
      "ans =\n",
      " \n",
      "0.89*cos(2.0*t) - 0.1097*sin(2.0*t) - 0.06667*cos(3.0*t) - 1.834e-16*sin(3.0*t) + 0.3733*cos(t) + 1.005*sin(t) + 0.75\n",
      " \n",
      "\n"
     ]
    },
    {
     "data": {
      "image/png": "[encoded data removed]",
      "text/plain": [
       "<IPython.core.display.Image object>"
      ]
     },
     "metadata": {},
     "output_type": "display_data"
    }
   ],
   "source": [
    "harmonic_analysis(x,y,3)"
   ]
  },
  {
   "cell_type": "code",
   "execution_count": 39,
   "metadata": {},
   "outputs": [
    {
     "name": "stdout",
     "output_type": "stream",
     "text": [
      "\n",
      "ans =\n",
      "\n",
      "    -1.834291065500139e-16\n",
      "\n",
      "\n",
      "ans =\n",
      "\n",
      "    -1.834291065500139e-16\n",
      "\n",
      "\n"
     ]
    }
   ],
   "source": [
    "(2/6)*(sum(y.*sin(3*x)))\n",
    "2*mean(y.*sin(3*x))"
   ]
  },
  {
   "cell_type": "code",
   "execution_count": 38,
   "metadata": {},
   "outputs": [
    {
     "name": "stdout",
     "output_type": "stream",
     "text": [
      "\n",
      "ans =\n",
      "\n",
      "  -0.066666666666667\n",
      "\n",
      "\n",
      "ans =\n",
      "\n",
      "  -0.066666666666667\n",
      "\n",
      "\n"
     ]
    }
   ],
   "source": [
    "(2/6)*(sum(y.*cos(3*x)))\n",
    "2*mean(y.*cos(3*x))"
   ]
  },
  {
   "cell_type": "code",
   "execution_count": 43,
   "metadata": {},
   "outputs": [
    {
     "name": "stdout",
     "output_type": "stream",
     "text": [
      "\n",
      "ans =\n",
      "\n",
      "   0.750000000000000\n",
      "\n",
      "\n"
     ]
    }
   ],
   "source": [
    "(1/6)*sum(y)"
   ]
  },
  {
   "cell_type": "code",
   "execution_count": 49,
   "metadata": {},
   "outputs": [
    {
     "name": "stdout",
     "output_type": "stream",
     "text": [
      "\n",
      "ans =\n",
      "\n",
      "  -0.066666666666667\n",
      "\n",
      "\n"
     ]
    }
   ],
   "source": [
    "(2/6)*(sum(y.*cos(3*x)))"
   ]
  },
  {
   "cell_type": "code",
   "execution_count": 50,
   "metadata": {},
   "outputs": [
    {
     "name": "stdout",
     "output_type": "stream",
     "text": [
      "\n",
      "ans =\n",
      "\n",
      "    -1.834291065500139e-16\n",
      "\n",
      "\n"
     ]
    }
   ],
   "source": [
    "(2/6)*(sum(y.*sin(3*x)))"
   ]
  },
  {
   "cell_type": "code",
   "execution_count": null,
   "metadata": {},
   "outputs": [],
   "source": []
  }
 ],
 "metadata": {
  "kernelspec": {
   "display_name": "Matlab",
   "language": "matlab",
   "name": "matlab"
  },
  "language_info": {
   "codemirror_mode": "octave",
   "file_extension": ".m",
   "help_links": [
    {
     "text": "MetaKernel Magics",
     "url": "https://github.com/calysto/metakernel/blob/master/metakernel/magics/README.md"
    }
   ],
   "mimetype": "text/x-octave",
   "name": "matlab",
   "version": "0.15.1"
  }
 },
 "nbformat": 4,
 "nbformat_minor": 2
}
