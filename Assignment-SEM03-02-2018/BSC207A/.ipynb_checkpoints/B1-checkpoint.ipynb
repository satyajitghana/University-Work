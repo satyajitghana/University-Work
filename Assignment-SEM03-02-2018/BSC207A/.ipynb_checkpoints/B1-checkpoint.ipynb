{
 "cells": [
  {
   "cell_type": "markdown",
   "metadata": {},
   "source": [
    "# B1"
   ]
  },
  {
   "cell_type": "code",
   "execution_count": 3,
   "metadata": {},
   "outputs": [
    {
     "name": "stdout",
     "output_type": "stream",
     "text": [
      "\n",
      "x =\n",
      "\n",
      "         0    1.0472    2.0944    3.1416    4.1888    5.2360\n",
      "\n",
      "\n",
      "y =\n",
      "\n",
      "    1.9800    1.3000    1.0500    1.3000   -0.8800   -0.2500\n",
      "\n",
      "\n"
     ]
    }
   ],
   "source": [
    "x = linspace(0, 10*pi/6, 6)\n",
    "y = [1.98 1.30 1.05 1.30 -0.88 -0.25]"
   ]
  },
  {
   "cell_type": "code",
   "execution_count": null,
   "metadata": {},
   "outputs": [],
   "source": []
  }
 ],
 "metadata": {
  "kernelspec": {
   "display_name": "Matlab",
   "language": "matlab",
   "name": "matlab"
  },
  "language_info": {
   "codemirror_mode": "octave",
   "file_extension": ".m",
   "help_links": [
    {
     "text": "MetaKernel Magics",
     "url": "https://github.com/calysto/metakernel/blob/master/metakernel/magics/README.md"
    }
   ],
   "mimetype": "text/x-octave",
   "name": "matlab",
   "version": "0.15.1"
  }
 },
 "nbformat": 4,
 "nbformat_minor": 2
}
